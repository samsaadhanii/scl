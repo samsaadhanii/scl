{
"nbformat": 4,
"nbformat_minor": 0,
"metadata": {
"colab": {
"provenance": []
},
"kernelspec": {
"name": "python3",
"display_name": "Python 3"
},
"language_info": {
"name": "python"
}
},
"cells": [
{
"cell_type": "markdown",
"source": [
"## Samsaadhanii - Setup"
],
"metadata": {
"id": "dXLV3Oekh3dE"
}
},
{
"cell_type": "markdown",
"source": [
"### 1. Pre-requisite - Install"
],
"metadata": {
"id": "s7CMSL2hh311"
}
},
{
"cell_type": "code",
"source": [
"!sudo apt-get install apache2 bash bison flex graphviz gcc lttoolbox make perl python xsltproc default-jdk g++ python3-pip\n",
"!sudo pip3 install pandas openpyxl anytree ngrok setuptools -v\n",
"!sudo pip3 install openpyxl -v\n",
"!sudo pip3 install anytree -v\n",
"!sudo pip3 install pyngrok -v"
],
"metadata": {
"id": "D-dgM_M6i4Mt"
},
"execution_count": null,
"outputs": []
},
{
"cell_type": "markdown",
"source": [
"### 2. Install - Misc"
],
"metadata": {
"id": "ckyyqFT5h4Ax"
}
},
{
"cell_type": "code",
"source": [
"%cd /content/\n",
"%ls -ltr\n",
"\n",
"!sudo apt install ocaml ocamlbuild camlp4\n",
"\n",
"!rm /content/5.0.0.tar.gz\n",
"!wget https://github.com/ocaml/ocaml/archive/refs/tags/5.0.0.tar.gz\n",
"!tar -xf /content/5.0.0.tar.gz\n",
"\n",
"!rm 0.14.2.tar.gz\n",
"!wget https://github.com/ocaml/ocamlbuild/archive/refs/tags/0.14.2.tar.gz\n",
"!tar -xf /content/0.14.2.tar.gz\n",
"\n",
"!rm 4.02.0+1.tar.gz\n",
"!wget https://github.com/camlp4/camlp4/archive/refs/tags/4.02.0+1.tar.gz\n",
"!tar -xf /content/4.02.0+1.tar.gz\n",
"\n",
"!git clone https://gitlab.inria.fr/huet/Zen.git\n",
"\n",
"!git clone https://github.com/samsaadhanii/scl.git"
],
"metadata": {
"id": "hKqtQLw6i5E0"
},
"execution_count": null,
"outputs": []
},
{
"cell_type": "markdown",
"source": [
"### 3. Configure & Build\n"
],
"metadata": {
"id": "litjyPXXh4ms"
}
},
{
"cell_type": "code",
"source": [
"# 1. ocaml configuration\n",
"%cd /content/ocaml-5.0.0\n",
"!./configure\n",
"!make world.opt\n",
"!sudo make install\n",
"\n",
"# 2. ocamlbuild configuration\n",
"%cd /content/ocamlbuild-0.14.2\n",
"!make configure # beware: not ./configure\n",
"!make\n",
"!sudo make install\n",
"\n",
"# 3. camlp4 configuration\n",
"%cd /content/camlp4-4.02.0-1\n",
"!./configure\n",
"!make all # beware: not just make\n",
"!sudo make install\n",
"\n",
"# 4. Zen configuration\n",
"%cd /content/Zen/ML \n",
"!make\n",
"\n",
"# 5. scl configuration\n",
"%cd /content/scl\n",
"!cp /content/scl/SPEC/spec_users.txt /content/scl/spec.txt # Make sure that you have correct values in spec.txt\n",
"\n",
"!./configure \n",
"!make\n",
"!sudo make install"
],
"metadata": {
"id": "Nc4jqk3Ai9LV"
},
"execution_count": null,
"outputs": []
},
{
"cell_type": "markdown",
"source": [
"### 4. Starting the server (external)"
],
"metadata": {
"id": "bbCLR3WtijB4"
}
},
{
"cell_type": "code",
"source": [
"%cd /content/\n",
"\n",
"!sudo a2enmod cgid\n",
"!sudo service apache2 restart\n",
"\n",
"!sudo service apache2 status\n",
"!curl http://localhost:80/scl/amarakosha/index.html #Test\n",
"\n",
"# Get the ngrok authtoken from here) https://dashboard.ngrok.com/get-started/setup\n",
"!ngrok authtoken <replace this with ngrok authtoken>\n",
"from pyngrok import ngrok\n",
"\n",
"# 1. Open a HTTP tunnel on the default port 80\n",
"ngrok.kill()\n",
"public_url = ngrok.connect(port='80')\n",
"tunnels = ngrok.get_tunnels();\n",
"print(\"tunnels \", tunnels)\n",
"\n",
"# 2. Open a SSH tunnel\n",
"# ssh_url = ngrok.connect(22, 'tcp')\n",
"\n"
],
"metadata": {
"id": "Dw6TDA6BjAJI"
},
"execution_count": null,
"outputs": []
},
{
"cell_type": "markdown",
"source": [
"### 5. Debugging (print apache logs)"
],
"metadata": {
"id": "A-uQ0_37MvFp"
}
},
{
"cell_type": "code",
"source": [
"!echo \"**********Start Logs************\"\n",
"\n",
"!cat /var/log/apache2/access.log\n",
"!cat /var/log/apache2/error.log\n",
"\n",
"!echo \"**********End Logs**************\"\n"
],
"metadata": {
"id": "wAi-W1u0Mqtx"
},
"execution_count": null,
"outputs": []
}
]
}